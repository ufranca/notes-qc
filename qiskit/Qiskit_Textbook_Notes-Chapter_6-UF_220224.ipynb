{
 "cells": [
  {
   "cell_type": "markdown",
   "id": "efcfb886",
   "metadata": {},
   "source": [
    "<font color='red' size=\"+3\"><b>Notes Qiskit UF</b></font>"
   ]
  },
  {
   "cell_type": "markdown",
   "id": "d9161543",
   "metadata": {},
   "source": [
    " <font size=\"+3\"><b> 6. Investigating Quantum Hardware Using Microwave Pulses</b></font>\n",
    "\n",
    "__From https://qiskit.org/textbook/ch-quantum-hardware/calibrating-qubits-pulse.html__\n",
    "\n",
    "Soon to come:\n",
    "\n",
    "* Decoherence and Energy Relaxation: Measuring T2 and T1\n",
    "* Optimizing Microwave Pulses for High-Fidelity Qubit Operations"
   ]
  },
  {
   "cell_type": "markdown",
   "id": "9bc32336",
   "metadata": {},
   "source": [
    "# Calibrating Qubits with Qiskit Pulse\n",
    "\n",
    "__Qiskit Pulse__: pulse level control (i.e., control of the continuous time dynamics of the input signals) of a _general_ quantum device, independent of hardware implementation.\n",
    "\n",
    "This section: how to implement typical single-qubit calibration and characterization experiments using Qiskit and Qiskit Pulse. \n",
    "\n",
    "This would be similar to the first round of experiments that would be done in the lab immediately after a device has been fabricated and installed into a system. Each experiment provides more information about the system which is used subsequently.\n",
    "\n",
    "\n",
    "## Getting started\n",
    "\n",
    "Real, noisy devices for our calibrations. Require loading IBMQ account and set the appropriate backend.\n",
    "\n",
    "We verify that the backend supports Pulse features by checking the backend configuration. The config provides us with general information about the structure of the backend setup."
   ]
  },
  {
   "cell_type": "code",
   "execution_count": 3,
   "id": "7363fbd3",
   "metadata": {},
   "outputs": [],
   "source": [
    "from qiskit.tools.jupyter import *\n",
    "\n",
    "from qiskit import IBMQ\n",
    "IBMQ.load_account()\n",
    "provider = IBMQ.get_provider(hub='ibm-q', group='open', project='main')\n",
    "backend = provider.get_backend('ibmq_armonk')\n",
    "\n",
    "backend_config = backend.configuration()\n",
    "assert backend_config.open_pulse, \"Backend does not support Pulse\"\n"
   ]
  },
  {
   "cell_type": "markdown",
   "id": "74993b0b",
   "metadata": {},
   "source": [
    "As an example, we can find the sampling time for the backend pulses within the backend configuration. These provide useful values to build and execute calibration routines."
   ]
  },
  {
   "cell_type": "code",
   "execution_count": 4,
   "id": "859731fa",
   "metadata": {},
   "outputs": [
    {
     "name": "stdout",
     "output_type": "stream",
     "text": [
      "Sampling time: 0.2222222222222222 ns\n"
     ]
    }
   ],
   "source": [
    "dt = backend_config.dt\n",
    "print(f\"Sampling time: {dt*1e9} ns\")    # The configuration returns dt in seconds, so multiply by\n",
    "                                        # 1e9 to get nanoseconds"
   ]
  },
  {
   "cell_type": "markdown",
   "id": "7e212ce0",
   "metadata": {},
   "source": [
    "The backend defaults provide a starting point on how to use the backend."
   ]
  },
  {
   "cell_type": "code",
   "execution_count": 5,
   "id": "dcc32e2c",
   "metadata": {},
   "outputs": [],
   "source": [
    "backend_defaults = backend.defaults()"
   ]
  },
  {
   "cell_type": "markdown",
   "id": "e09eb8ec",
   "metadata": {},
   "source": [
    "## Finding the qubit FRequency using a Frequency Sweep\n",
    "\n"
   ]
  }
 ],
 "metadata": {
  "kernelspec": {
   "display_name": "Python 3",
   "language": "python",
   "name": "python3"
  },
  "language_info": {
   "codemirror_mode": {
    "name": "ipython",
    "version": 3
   },
   "file_extension": ".py",
   "mimetype": "text/x-python",
   "name": "python",
   "nbconvert_exporter": "python",
   "pygments_lexer": "ipython3",
   "version": "3.8.8"
  },
  "toc": {
   "base_numbering": 1,
   "nav_menu": {},
   "number_sections": true,
   "sideBar": true,
   "skip_h1_title": false,
   "title_cell": "Table of Contents",
   "title_sidebar": "Contents",
   "toc_cell": false,
   "toc_position": {},
   "toc_section_display": true,
   "toc_window_display": false
  }
 },
 "nbformat": 4,
 "nbformat_minor": 5
}
