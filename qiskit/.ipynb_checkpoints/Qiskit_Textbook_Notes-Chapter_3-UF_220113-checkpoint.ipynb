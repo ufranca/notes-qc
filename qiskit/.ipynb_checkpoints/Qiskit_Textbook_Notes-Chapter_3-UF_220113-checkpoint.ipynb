{
 "cells": [
  {
   "cell_type": "markdown",
   "id": "efcfb886",
   "metadata": {},
   "source": [
    "<font color='red' size=\"+3\"><b>Notes Qiskit UF</b></font>"
   ]
  },
  {
   "cell_type": "markdown",
   "id": "03e3fcbf",
   "metadata": {},
   "source": [
    "# Chapter 1\n",
    "see Qiskit_Notes-Chapter_1-UF_211129</a>"
   ]
  },
  {
   "cell_type": "markdown",
   "id": "977db97f",
   "metadata": {},
   "source": [
    "# Chapter 2\n",
    "see Qiskit_Notes-Chapter_2-UF_211218</a>"
   ]
  },
  {
   "cell_type": "markdown",
   "id": "d9161543",
   "metadata": {},
   "source": [
    "# Quantum Protocols and Quantum Algorithms\n",
    "\n",
    "\n",
    "## Defining Quantum Circuits\n",
    "\n",
    "### Introduction\n",
    "\n",
    "Before implementing quantum algorithms on real quantum computers, it is important to highlight the definition of a quantum circuit concretely, as we will be building quantum circuits to implement these algorithms.\n",
    "\n",
    "\n",
    "### What is a quantum Circuit\n",
    "\n",
    "__Quantum Circuit__: a computational routine consisting of coherent quantum operations on quantum data, such as qubits, and concurrent real-time classical computation. It is an ordered sequence of quantum gates, measurements and resets, all of which may be conditioned on and use data from the real-time classical computation.\n",
    "\n",
    "### Example: Quantum Teleportation\n",
    "\n",
    "\n",
    "<img src='figures/teleportation_labelled.svg'>\n",
    "\n",
    "__Teleportation algorithm__: 3 qubits, 2 classical bits.\n",
    "\n",
    "_Initialization and reset_ \n",
    "\n",
    "First, we need to start our quantum computation with a well-defined quantum state. This is achieved using the initialization and reset operations. The resets can be performed by a combination of single-qubit gates and concurrent real-time classical computation that monitors whether we have successfully created the desired state through measurements. The initialization of $q_0$  into a desired state $|\\psi\\rangle$ can then follow by applying single-qubit gates.\n",
    "\n",
    "_Quantum gates_\n",
    "\n",
    "Second, we apply a sequence of quantum gates that manipulate the three qubits as required by the teleportation algorithm. In this case, we only need to apply single-qubit Hadamard $H$ and two-qubit Controlled-X $\\bigoplus$ gates.\n",
    "\n",
    "_Measurements _\n",
    "\n",
    "Third, we measure two of the three qubits. A classical computer interprets the measurements of each qubit as classical outcomes (0 and 1) and stores them in the two classical bits.\n",
    "\n",
    "_Classically conditioned quantum gates_ \n",
    "Fourth, we apply single-qubit $Z$ and $X$ quantum gates on the third qubit. __These gates are conditioned on the results of the measurements that are stored in the two classical bits__. In this case, we are using the results of the classical computation concurrently in real-time within the same quantum circuit.\n",
    "\n",
    "\n",
    "\n",
    "### Example: Variational Quantum Eigensolvers\n",
    "\n",
    "Here is an example of a quantum program. You will learn in following chapters that it implements a <a href=\"https://qiskit.org/textbook/ch-applications/vqe-molecules.html\">variational quantum eigensolver</a>. In this program, a classical computer works non-concurrently in concert with a quantum computer.\n",
    "\n",
    "<img src=\"figures/vqe-labeled.png\">\n",
    "\n",
    "_The quantum block_\n",
    "\n",
    "As with the quantum teleportation example above, a quantum state $|\\Psi(\\theta)\\rangle$ is prepared by a combination of resets with single- and multi-qubit quantum gates. Here, the parameters of the state are parameterized using the quantity $\\theta$. Once prepared, the quantum state is then manipulated using quantum gates and measured. All of the operations within the quantum block consist of quantum circuits.\n",
    "\n",
    "_The classical block_ \n",
    "\n",
    "Once the quantum state has been measured, a classical computer interprets those measurement outcomes and computes their cost using a cost function that has been chosen for the intended application. Based on this cost, the classical computer determines another value for the parameter $\\theta$.\n",
    "\n",
    "_Combined operation_ \n",
    "\n",
    "Once the classical computer determines the next parameter for $\\theta$, a sequence of resets, single- and multi-qubit quantum gates are used in a quantum circuit to prepare  $|\\Psi(\\theta)\\rangle$, and this process continues until the cost of the measured quantum states stabilizes, or until another pre-determined outcome is met.\n",
    "\n",
    "\n",
    "\n",
    "### Why the Classical Parts\n",
    "\n",
    "While a universal quantum computer can do anything any classical computer can, __we often add classical parts to our quantum circuits because quantum states are fragile__.\n",
    "\n",
    "When we measure the qubit, we collapse its state and destroy a lot of the information. __Since all measurement does is destroy information, we can in theory always measure last and lose no computational advantage. In reality, measuring early offers many practical advantages.__\n",
    "\n",
    "For example, in the teleportation circuit, we measure the qubits so we can send the information over classical channels instead of quantum channels. The advantage is that classical channels are very stable, while we don’t really have a way of sending quantum information to other people since the channels are so difficult to create.\n",
    "\n",
    "In the variational quantum eigensolver example, __splitting the computation up into smaller quantum computations actually loses us some computational advantage, but makes up for this on noisy hardware by reducing the time our qubits are in superposition__. This means there is less chance interference will introduce inaccuracies in our results.\n",
    "\n",
    "Finally, to use the results of our quantum computation in our classical, everyday world, we need to measure and interpret these states at the end of our computation."
   ]
  },
  {
   "cell_type": "markdown",
   "id": "a10e961d",
   "metadata": {},
   "source": [
    "## Deutsch-Josza Algorithm"
   ]
  },
  {
   "cell_type": "code",
   "execution_count": null,
   "id": "f8c51895",
   "metadata": {},
   "outputs": [],
   "source": []
  },
  {
   "cell_type": "code",
   "execution_count": null,
   "id": "7992b551",
   "metadata": {},
   "outputs": [],
   "source": []
  },
  {
   "cell_type": "markdown",
   "id": "70904bdf",
   "metadata": {},
   "source": [
    "## Bernstein-Vazirani Algorithtm"
   ]
  },
  {
   "cell_type": "code",
   "execution_count": null,
   "id": "dfbce623",
   "metadata": {},
   "outputs": [],
   "source": []
  },
  {
   "cell_type": "code",
   "execution_count": null,
   "id": "90b06b82",
   "metadata": {},
   "outputs": [],
   "source": []
  },
  {
   "cell_type": "markdown",
   "id": "625736f1",
   "metadata": {},
   "source": [
    "## Simon's Algorithm"
   ]
  },
  {
   "cell_type": "code",
   "execution_count": null,
   "id": "7363fbd3",
   "metadata": {},
   "outputs": [],
   "source": []
  },
  {
   "cell_type": "markdown",
   "id": "1c723a8a",
   "metadata": {},
   "source": [
    "## Quantum Fourier Transform"
   ]
  },
  {
   "cell_type": "code",
   "execution_count": null,
   "id": "84f27540",
   "metadata": {},
   "outputs": [],
   "source": []
  },
  {
   "cell_type": "code",
   "execution_count": null,
   "id": "2664c844",
   "metadata": {},
   "outputs": [],
   "source": []
  },
  {
   "cell_type": "markdown",
   "id": "b8831fc4",
   "metadata": {},
   "source": [
    "## Quantum Phase Transform"
   ]
  },
  {
   "cell_type": "code",
   "execution_count": null,
   "id": "4876a676",
   "metadata": {},
   "outputs": [],
   "source": []
  },
  {
   "cell_type": "markdown",
   "id": "9584901b",
   "metadata": {},
   "source": [
    "## Shor's Algorithm"
   ]
  },
  {
   "cell_type": "code",
   "execution_count": null,
   "id": "0fa2a881",
   "metadata": {},
   "outputs": [],
   "source": []
  },
  {
   "cell_type": "code",
   "execution_count": null,
   "id": "ed59f4e0",
   "metadata": {},
   "outputs": [],
   "source": []
  },
  {
   "cell_type": "markdown",
   "id": "6f478714",
   "metadata": {},
   "source": [
    "## Grover's Algorithm"
   ]
  },
  {
   "cell_type": "code",
   "execution_count": null,
   "id": "7beb9676",
   "metadata": {},
   "outputs": [],
   "source": []
  },
  {
   "cell_type": "markdown",
   "id": "3ff906ab",
   "metadata": {
    "ExecuteTime": {
     "end_time": "2022-06-02T22:04:14.221478Z",
     "start_time": "2022-06-02T22:04:14.217477Z"
    }
   },
   "source": [
    "## Quantum Counting"
   ]
  },
  {
   "cell_type": "code",
   "execution_count": null,
   "id": "d47e94c4",
   "metadata": {},
   "outputs": [],
   "source": []
  },
  {
   "cell_type": "code",
   "execution_count": null,
   "id": "908542b2",
   "metadata": {},
   "outputs": [],
   "source": []
  },
  {
   "cell_type": "markdown",
   "id": "75d3ca00",
   "metadata": {},
   "source": [
    "## Quantum Walk Search Algorithm"
   ]
  },
  {
   "cell_type": "code",
   "execution_count": null,
   "id": "d3780038",
   "metadata": {},
   "outputs": [],
   "source": []
  },
  {
   "cell_type": "code",
   "execution_count": null,
   "id": "1c1b139e",
   "metadata": {},
   "outputs": [],
   "source": []
  },
  {
   "cell_type": "markdown",
   "id": "8e3b21bb",
   "metadata": {},
   "source": [
    "## Quantum Teleportation"
   ]
  },
  {
   "cell_type": "code",
   "execution_count": null,
   "id": "053e43fc",
   "metadata": {},
   "outputs": [],
   "source": []
  },
  {
   "cell_type": "code",
   "execution_count": null,
   "id": "d1b983fa",
   "metadata": {},
   "outputs": [],
   "source": []
  },
  {
   "cell_type": "markdown",
   "id": "c2aeaaeb",
   "metadata": {},
   "source": [
    "## Superdense Coding"
   ]
  },
  {
   "cell_type": "code",
   "execution_count": null,
   "id": "64a73bd9",
   "metadata": {},
   "outputs": [],
   "source": []
  },
  {
   "cell_type": "code",
   "execution_count": null,
   "id": "d95edec5",
   "metadata": {},
   "outputs": [],
   "source": []
  },
  {
   "cell_type": "markdown",
   "id": "00bb0d52",
   "metadata": {},
   "source": [
    "## Quantum Key Distribution"
   ]
  },
  {
   "cell_type": "code",
   "execution_count": null,
   "id": "64dce9e5",
   "metadata": {},
   "outputs": [],
   "source": []
  },
  {
   "cell_type": "code",
   "execution_count": null,
   "id": "12c21a27",
   "metadata": {},
   "outputs": [],
   "source": []
  },
  {
   "cell_type": "code",
   "execution_count": null,
   "id": "73c9559c",
   "metadata": {},
   "outputs": [],
   "source": []
  }
 ],
 "metadata": {
  "kernelspec": {
   "display_name": "Python 3 (ipykernel)",
   "language": "python",
   "name": "python3"
  },
  "language_info": {
   "codemirror_mode": {
    "name": "ipython",
    "version": 3
   },
   "file_extension": ".py",
   "mimetype": "text/x-python",
   "name": "python",
   "nbconvert_exporter": "python",
   "pygments_lexer": "ipython3",
   "version": "3.9.7"
  },
  "toc": {
   "base_numbering": 1,
   "nav_menu": {},
   "number_sections": true,
   "sideBar": true,
   "skip_h1_title": false,
   "title_cell": "Table of Contents",
   "title_sidebar": "Contents",
   "toc_cell": false,
   "toc_position": {},
   "toc_section_display": true,
   "toc_window_display": false
  }
 },
 "nbformat": 4,
 "nbformat_minor": 5
}
