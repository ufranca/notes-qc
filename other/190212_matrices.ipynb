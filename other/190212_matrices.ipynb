{
 "cells": [
  {
   "cell_type": "markdown",
   "metadata": {},
   "source": [
    "### Test for matrices"
   ]
  },
  {
   "cell_type": "code",
   "execution_count": 1,
   "metadata": {},
   "outputs": [],
   "source": [
    "from sympy import *\n",
    "init_printing(use_unicode=True)"
   ]
  },
  {
   "cell_type": "code",
   "execution_count": 2,
   "metadata": {},
   "outputs": [],
   "source": [
    "M= Matrix([[2, 0, 1], [3, 1, 1], [1, 2, 1]])"
   ]
  },
  {
   "cell_type": "code",
   "execution_count": 3,
   "metadata": {},
   "outputs": [
    {
     "data": {
      "image/png": "[encoded data removed]",
      "text/latex": [
       "$$\\left ( 3, \\quad 3\\right )$$"
      ],
      "text/plain": [
       "(3, 3)"
      ]
     },
     "execution_count": 3,
     "metadata": {},
     "output_type": "execute_result"
    }
   ],
   "source": [
    "M.shape"
   ]
  },
  {
   "cell_type": "code",
   "execution_count": 4,
   "metadata": {},
   "outputs": [
    {
     "data": {
      "image/png": "[encoded data removed]",
      "text/latex": [
       "$$\\left[\\begin{matrix}- \\frac{1}{3} & \\frac{2}{3} & - \\frac{1}{3}\\\\- \\frac{2}{3} & \\frac{1}{3} & \\frac{1}{3}\\\\\\frac{5}{3} & - \\frac{4}{3} & \\frac{2}{3}\\end{matrix}\\right]$$"
      ],
      "text/plain": [
       "⎡-1/3  2/3   -1/3⎤\n",
       "⎢                ⎥\n",
       "⎢-2/3  1/3   1/3 ⎥\n",
       "⎢                ⎥\n",
       "⎣5/3   -4/3  2/3 ⎦"
      ]
     },
     "execution_count": 4,
     "metadata": {},
     "output_type": "execute_result"
    }
   ],
   "source": [
    "M**(-1)"
   ]
  },
  {
   "cell_type": "code",
   "execution_count": 5,
   "metadata": {},
   "outputs": [
    {
     "data": {
      "image/png": "[encoded data removed]",
      "text/latex": [
       "$$\\left[\\begin{matrix}1 & 0 & 0\\\\0 & 1 & 0\\\\0 & 0 & 1\\end{matrix}\\right]$$"
      ],
      "text/plain": [
       "⎡1  0  0⎤\n",
       "⎢       ⎥\n",
       "⎢0  1  0⎥\n",
       "⎢       ⎥\n",
       "⎣0  0  1⎦"
      ]
     },
     "execution_count": 5,
     "metadata": {},
     "output_type": "execute_result"
    }
   ],
   "source": [
    "M**(-1)*M"
   ]
  },
  {
   "cell_type": "code",
   "execution_count": 6,
   "metadata": {},
   "outputs": [
    {
     "data": {
      "image/png": "[encoded data removed]",
      "text/latex": [
       "$$\\left[\\begin{matrix}2 & 0 & 0\\\\0 & 2 & 0\\\\0 & 0 & 2\\end{matrix}\\right]$$"
      ],
      "text/plain": [
       "⎡2  0  0⎤\n",
       "⎢       ⎥\n",
       "⎢0  2  0⎥\n",
       "⎢       ⎥\n",
       "⎣0  0  2⎦"
      ]
     },
     "execution_count": 6,
     "metadata": {},
     "output_type": "execute_result"
    }
   ],
   "source": [
    "eye(3) + M**(-1)*M"
   ]
  },
  {
   "cell_type": "code",
   "execution_count": 7,
   "metadata": {},
   "outputs": [
    {
     "data": {
      "image/png": "[encoded data removed]",
      "text/latex": [
       "$$\\left[\\begin{matrix}1 & 0 & 0\\\\0 & 2 & 0\\\\0 & 0 & 3\\end{matrix}\\right]$$"
      ],
      "text/plain": [
       "⎡1  0  0⎤\n",
       "⎢       ⎥\n",
       "⎢0  2  0⎥\n",
       "⎢       ⎥\n",
       "⎣0  0  3⎦"
      ]
     },
     "execution_count": 7,
     "metadata": {},
     "output_type": "execute_result"
    }
   ],
   "source": [
    "diag(1, 2, 3)"
   ]
  },
  {
   "cell_type": "code",
   "execution_count": 8,
   "metadata": {},
   "outputs": [
    {
     "data": {
      "image/png": "[encoded data removed]",
      "text/latex": [
       "$$8$$"
      ],
      "text/plain": [
       "8"
      ]
     },
     "execution_count": 8,
     "metadata": {},
     "output_type": "execute_result"
    }
   ],
   "source": [
    "(eye(3) + M**(-1)*M).det()"
   ]
  },
  {
   "cell_type": "code",
   "execution_count": 9,
   "metadata": {},
   "outputs": [
    {
     "data": {
      "image/png": "[encoded data removed]",
      "text/latex": [
       "$$\\left ( \\left[\\begin{matrix}1 & 0 & 0\\\\0 & 1 & 0\\\\0 & 0 & 1\\end{matrix}\\right], \\quad \\left ( 0, \\quad 1, \\quad 2\\right )\\right )$$"
      ],
      "text/plain": [
       "⎛⎡1  0  0⎤           ⎞\n",
       "⎜⎢       ⎥           ⎟\n",
       "⎜⎢0  1  0⎥, (0, 1, 2)⎟\n",
       "⎜⎢       ⎥           ⎟\n",
       "⎝⎣0  0  1⎦           ⎠"
      ]
     },
     "execution_count": 9,
     "metadata": {},
     "output_type": "execute_result"
    }
   ],
   "source": [
    "M.rref()"
   ]
  },
  {
   "cell_type": "code",
   "execution_count": 10,
   "metadata": {},
   "outputs": [
    {
     "data": {
      "image/png": "[encoded data removed]",
      "text/latex": [
       "$$\\left[\\begin{matrix}2 & 0 & 0\\\\0 & 1 & 0\\\\0 & 0 & 1.5\\end{matrix}\\right]$$"
      ],
      "text/plain": [
       "⎡2  0   0 ⎤\n",
       "⎢         ⎥\n",
       "⎢0  1   0 ⎥\n",
       "⎢         ⎥\n",
       "⎣0  0  1.5⎦"
      ]
     },
     "execution_count": 10,
     "metadata": {},
     "output_type": "execute_result"
    }
   ],
   "source": [
    "M = Matrix([[2, 0, 0], [0, 1, 0], [0, 0, 3/2]])\n",
    "M"
   ]
  },
  {
   "cell_type": "code",
   "execution_count": 11,
   "metadata": {},
   "outputs": [
    {
     "data": {
      "image/png": "[encoded data removed]",
      "text/latex": [
       "$$\\left \\{ 1 : 1, \\quad \\frac{3}{2} : 1, \\quad 2 : 1\\right \\}$$"
      ],
      "text/plain": [
       "{1: 1, 3/2: 1, 2: 1}"
      ]
     },
     "execution_count": 11,
     "metadata": {},
     "output_type": "execute_result"
    }
   ],
   "source": [
    "M.eigenvals()"
   ]
  },
  {
   "cell_type": "code",
   "execution_count": 12,
   "metadata": {},
   "outputs": [],
   "source": [
    "P, D = M.diagonalize()"
   ]
  },
  {
   "cell_type": "code",
   "execution_count": 13,
   "metadata": {},
   "outputs": [
    {
     "data": {
      "image/png": "[encoded data removed]",
      "text/latex": [
       "$$\\left[\\begin{matrix}1.0 & 0 & 0\\\\0 & 1.5 & 0\\\\0 & 0 & 2.0\\end{matrix}\\right]$$"
      ],
      "text/plain": [
       "⎡1.0   0    0 ⎤\n",
       "⎢             ⎥\n",
       "⎢ 0   1.5   0 ⎥\n",
       "⎢             ⎥\n",
       "⎣ 0    0   2.0⎦"
      ]
     },
     "execution_count": 13,
     "metadata": {},
     "output_type": "execute_result"
    }
   ],
   "source": [
    "P\n",
    "D"
   ]
  },
  {
   "cell_type": "code",
   "execution_count": 14,
   "metadata": {},
   "outputs": [
    {
     "data": {
      "image/png": "[encoded data removed]",
      "text/latex": [
       "$$\\left \\{ 1 : 1, \\quad \\frac{3}{2} : 1, \\quad 2 : 1\\right \\}$$"
      ],
      "text/plain": [
       "{1: 1, 3/2: 1, 2: 1}"
      ]
     },
     "execution_count": 14,
     "metadata": {},
     "output_type": "execute_result"
    }
   ],
   "source": [
    "simplify(M.eigenvals())"
   ]
  },
  {
   "cell_type": "code",
   "execution_count": 15,
   "metadata": {},
   "outputs": [
    {
     "data": {
      "image/png": "[encoded data removed]",
      "text/latex": [
       "$$\\left [ \\left ( 1.0, \\quad 1, \\quad \\left [ \\left[\\begin{matrix}0\\\\1.0\\\\0\\end{matrix}\\right]\\right ]\\right ), \\quad \\left ( 1.5, \\quad 1, \\quad \\left [ \\left[\\begin{matrix}0\\\\0\\\\1.0\\end{matrix}\\right]\\right ]\\right ), \\quad \\left ( 2.0, \\quad 1, \\quad \\left [ \\left[\\begin{matrix}1.0\\\\0\\\\0\\end{matrix}\\right]\\right ]\\right )\\right ]$$"
      ],
      "text/plain": [
       "⎡⎛        ⎡⎡ 0 ⎤⎤⎞  ⎛        ⎡⎡ 0 ⎤⎤⎞  ⎛        ⎡⎡1.0⎤⎤⎞⎤\n",
       "⎢⎜        ⎢⎢   ⎥⎥⎟  ⎜        ⎢⎢   ⎥⎥⎟  ⎜        ⎢⎢   ⎥⎥⎟⎥\n",
       "⎢⎜1.0, 1, ⎢⎢1.0⎥⎥⎟, ⎜1.5, 1, ⎢⎢ 0 ⎥⎥⎟, ⎜2.0, 1, ⎢⎢ 0 ⎥⎥⎟⎥\n",
       "⎢⎜        ⎢⎢   ⎥⎥⎟  ⎜        ⎢⎢   ⎥⎥⎟  ⎜        ⎢⎢   ⎥⎥⎟⎥\n",
       "⎣⎝        ⎣⎣ 0 ⎦⎦⎠  ⎝        ⎣⎣1.0⎦⎦⎠  ⎝        ⎣⎣ 0 ⎦⎦⎠⎦"
      ]
     },
     "execution_count": 15,
     "metadata": {},
     "output_type": "execute_result"
    }
   ],
   "source": [
    "M.eigenvects()"
   ]
  },
  {
   "cell_type": "code",
   "execution_count": 16,
   "metadata": {},
   "outputs": [],
   "source": [
    "x, y, z = symbols('x y z')"
   ]
  },
  {
   "cell_type": "code",
   "execution_count": 17,
   "metadata": {},
   "outputs": [
    {
     "data": {
      "image/png": "[encoded data removed]",
      "text/latex": [
       "$$\\left[\\begin{matrix}\\cos{\\left (x \\right )} & \\sin{\\left (x \\right )}\\\\\\sin{\\left (x \\right )} & - \\cos{\\left (x \\right )}\\end{matrix}\\right]$$"
      ],
      "text/plain": [
       "⎡cos(x)  sin(x) ⎤\n",
       "⎢               ⎥\n",
       "⎣sin(x)  -cos(x)⎦"
      ]
     },
     "execution_count": 17,
     "metadata": {},
     "output_type": "execute_result"
    }
   ],
   "source": [
    "M = Matrix([[cos(x), sin(x)], [sin(x), -cos(x)]])\n",
    "#M = Matrix([[0, -1], [1, 0]])\n",
    "M"
   ]
  },
  {
   "cell_type": "code",
   "execution_count": 18,
   "metadata": {},
   "outputs": [
    {
     "data": {
      "image/png": "[encoded data removed]",
      "text/latex": [
       "$$\\left \\{ -1 : 1, \\quad 1 : 1\\right \\}$$"
      ],
      "text/plain": [
       "{-1: 1, 1: 1}"
      ]
     },
     "execution_count": 18,
     "metadata": {},
     "output_type": "execute_result"
    }
   ],
   "source": [
    "M.eigenvals()"
   ]
  },
  {
   "cell_type": "code",
   "execution_count": 19,
   "metadata": {},
   "outputs": [
    {
     "data": {
      "image/png": "[encoded data removed]",
      "text/latex": [
       "$$\\left [ \\left ( -1, \\quad 1, \\quad \\left [ \\left[\\begin{matrix}- \\frac{\\sin{\\left (x \\right )}}{\\cos{\\left (x \\right )} + 1}\\\\1\\end{matrix}\\right]\\right ]\\right ), \\quad \\left ( 1, \\quad 1, \\quad \\left [ \\left[\\begin{matrix}- \\frac{\\sin{\\left (x \\right )}}{\\cos{\\left (x \\right )} - 1}\\\\1\\end{matrix}\\right]\\right ]\\right )\\right ]$$"
      ],
      "text/plain": [
       "⎡⎛       ⎡⎡ -sin(x)  ⎤⎤⎞  ⎛      ⎡⎡ -sin(x)  ⎤⎤⎞⎤\n",
       "⎢⎜       ⎢⎢──────────⎥⎥⎟  ⎜      ⎢⎢──────────⎥⎥⎟⎥\n",
       "⎢⎜-1, 1, ⎢⎢cos(x) + 1⎥⎥⎟, ⎜1, 1, ⎢⎢cos(x) - 1⎥⎥⎟⎥\n",
       "⎢⎜       ⎢⎢          ⎥⎥⎟  ⎜      ⎢⎢          ⎥⎥⎟⎥\n",
       "⎣⎝       ⎣⎣    1     ⎦⎦⎠  ⎝      ⎣⎣    1     ⎦⎦⎠⎦"
      ]
     },
     "execution_count": 19,
     "metadata": {},
     "output_type": "execute_result"
    }
   ],
   "source": [
    "M.eigenvects()"
   ]
  },
  {
   "cell_type": "markdown",
   "metadata": {},
   "source": [
    "Added 2018/12/03"
   ]
  },
  {
   "cell_type": "code",
   "execution_count": 20,
   "metadata": {},
   "outputs": [],
   "source": [
    "M= Matrix([[x, 1-x], [1-x, x]])"
   ]
  },
  {
   "cell_type": "code",
   "execution_count": 21,
   "metadata": {},
   "outputs": [
    {
     "data": {
      "image/png": "[encoded data removed]",
      "text/latex": [
       "$$\\left[\\begin{matrix}x & - x + 1\\\\- x + 1 & x\\end{matrix}\\right]$$"
      ],
      "text/plain": [
       "⎡  x     -x + 1⎤\n",
       "⎢              ⎥\n",
       "⎣-x + 1    x   ⎦"
      ]
     },
     "execution_count": 21,
     "metadata": {},
     "output_type": "execute_result"
    }
   ],
   "source": [
    "M"
   ]
  },
  {
   "cell_type": "code",
   "execution_count": 22,
   "metadata": {},
   "outputs": [
    {
     "data": {
      "image/png": "[encoded data removed]",
      "text/latex": [
       "$$\\left[\\begin{matrix}x^{2} + \\left(- x + 1\\right)^{2} & 2 x \\left(- x + 1\\right)\\\\2 x \\left(- x + 1\\right) & x^{2} + \\left(- x + 1\\right)^{2}\\end{matrix}\\right]$$"
      ],
      "text/plain": [
       "⎡ 2           2                ⎤\n",
       "⎢x  + (-x + 1)    2⋅x⋅(-x + 1) ⎥\n",
       "⎢                              ⎥\n",
       "⎢                 2           2⎥\n",
       "⎣ 2⋅x⋅(-x + 1)   x  + (-x + 1) ⎦"
      ]
     },
     "execution_count": 22,
     "metadata": {},
     "output_type": "execute_result"
    }
   ],
   "source": [
    "M**2"
   ]
  },
  {
   "cell_type": "code",
   "execution_count": 23,
   "metadata": {},
   "outputs": [
    {
     "data": {
      "image/png": "[encoded data removed]",
      "text/latex": [
       "$$\\left[\\begin{matrix}2 x \\left(- x + 1\\right)^{2} + x \\left(x^{2} + \\left(- x + 1\\right)^{2}\\right) & 2 x^{2} \\left(- x + 1\\right) + \\left(- x + 1\\right) \\left(x^{2} + \\left(- x + 1\\right)^{2}\\right)\\\\2 x^{2} \\left(- x + 1\\right) + \\left(- x + 1\\right) \\left(x^{2} + \\left(- x + 1\\right)^{2}\\right) & 2 x \\left(- x + 1\\right)^{2} + x \\left(x^{2} + \\left(- x + 1\\right)^{2}\\right)\\end{matrix}\\right]$$"
      ],
      "text/plain": [
       "⎡               2     ⎛ 2           2⎞         2                     ⎛ 2      \n",
       "⎢   2⋅x⋅(-x + 1)  + x⋅⎝x  + (-x + 1) ⎠      2⋅x ⋅(-x + 1) + (-x + 1)⋅⎝x  + (-x\n",
       "⎢                                                                             \n",
       "⎢   2                     ⎛ 2           2⎞                 2     ⎛ 2          \n",
       "⎣2⋅x ⋅(-x + 1) + (-x + 1)⋅⎝x  + (-x + 1) ⎠     2⋅x⋅(-x + 1)  + x⋅⎝x  + (-x + 1\n",
       "\n",
       "     2⎞⎤\n",
       " + 1) ⎠⎥\n",
       "       ⎥\n",
       " 2⎞    ⎥\n",
       ") ⎠    ⎦"
      ]
     },
     "execution_count": 23,
     "metadata": {},
     "output_type": "execute_result"
    }
   ],
   "source": [
    "M**3"
   ]
  },
  {
   "cell_type": "code",
   "execution_count": 24,
   "metadata": {},
   "outputs": [
    {
     "data": {
      "image/png": "[encoded data removed]",
      "text/latex": [
       "$$\\left[\\begin{matrix}4 x^{2} \\left(x - 1\\right)^{2} + \\left(x^{2} + \\left(x - 1\\right)^{2}\\right)^{2} & - 4 x \\left(x - 1\\right) \\left(x^{2} + \\left(x - 1\\right)^{2}\\right)\\\\- 4 x \\left(x - 1\\right) \\left(x^{2} + \\left(x - 1\\right)^{2}\\right) & 4 x^{2} \\left(x - 1\\right)^{2} + \\left(x^{2} + \\left(x - 1\\right)^{2}\\right)^{2}\\end{matrix}\\right]$$"
      ],
      "text/plain": [
       "⎡                               2                                  ⎤\n",
       "⎢   2        2   ⎛ 2          2⎞                  ⎛ 2          2⎞  ⎥\n",
       "⎢4⋅x ⋅(x - 1)  + ⎝x  + (x - 1) ⎠     -4⋅x⋅(x - 1)⋅⎝x  + (x - 1) ⎠  ⎥\n",
       "⎢                                                                  ⎥\n",
       "⎢                                                                 2⎥\n",
       "⎢               ⎛ 2          2⎞       2        2   ⎛ 2          2⎞ ⎥\n",
       "⎣  -4⋅x⋅(x - 1)⋅⎝x  + (x - 1) ⎠    4⋅x ⋅(x - 1)  + ⎝x  + (x - 1) ⎠ ⎦"
      ]
     },
     "execution_count": 24,
     "metadata": {},
     "output_type": "execute_result"
    }
   ],
   "source": [
    "simplify(M**4)"
   ]
  },
  {
   "cell_type": "code",
   "execution_count": 25,
   "metadata": {},
   "outputs": [
    {
     "data": {
      "image/png": "[encoded data removed]",
      "text/latex": [
       "$$\\left ( \\left[\\begin{matrix}1 & -1\\\\1 & 1\\end{matrix}\\right], \\quad \\left[\\begin{matrix}1 & 0\\\\0 & 2 x - 1\\end{matrix}\\right]\\right )$$"
      ],
      "text/plain": [
       "⎛⎡1  -1⎤  ⎡1     0   ⎤⎞\n",
       "⎜⎢     ⎥, ⎢          ⎥⎟\n",
       "⎝⎣1  1 ⎦  ⎣0  2⋅x - 1⎦⎠"
      ]
     },
     "execution_count": 25,
     "metadata": {},
     "output_type": "execute_result"
    }
   ],
   "source": [
    "M.diagonalize()"
   ]
  },
  {
   "cell_type": "code",
   "execution_count": 26,
   "metadata": {},
   "outputs": [],
   "source": [
    "a, b = symbols('a b')\n",
    "A = Matrix([[a, (1-b)], [(1-a), b]])"
   ]
  },
  {
   "cell_type": "code",
   "execution_count": 27,
   "metadata": {},
   "outputs": [
    {
     "data": {
      "image/png": "[encoded data removed]",
      "text/latex": [
       "$$\\left[\\begin{matrix}a & - b + 1\\\\- a + 1 & b\\end{matrix}\\right]$$"
      ],
      "text/plain": [
       "⎡  a     -b + 1⎤\n",
       "⎢              ⎥\n",
       "⎣-a + 1    b   ⎦"
      ]
     },
     "execution_count": 27,
     "metadata": {},
     "output_type": "execute_result"
    }
   ],
   "source": [
    "A"
   ]
  },
  {
   "cell_type": "code",
   "execution_count": 28,
   "metadata": {},
   "outputs": [
    {
     "data": {
      "image/png": "[encoded data removed]",
      "text/latex": [
       "$$\\left[\\begin{matrix}a^{2} + \\left(- a + 1\\right) \\left(- b + 1\\right) & a \\left(- b + 1\\right) + b \\left(- b + 1\\right)\\\\a \\left(- a + 1\\right) + b \\left(- a + 1\\right) & b^{2} + \\left(- a + 1\\right) \\left(- b + 1\\right)\\end{matrix}\\right]$$"
      ],
      "text/plain": [
       "⎡ 2                                              ⎤\n",
       "⎢a  + (-a + 1)⋅(-b + 1)   a⋅(-b + 1) + b⋅(-b + 1)⎥\n",
       "⎢                                                ⎥\n",
       "⎢                          2                     ⎥\n",
       "⎣a⋅(-a + 1) + b⋅(-a + 1)  b  + (-a + 1)⋅(-b + 1) ⎦"
      ]
     },
     "execution_count": 28,
     "metadata": {},
     "output_type": "execute_result"
    }
   ],
   "source": [
    "A**2"
   ]
  },
  {
   "cell_type": "code",
   "execution_count": 29,
   "metadata": {},
   "outputs": [],
   "source": [
    "###### Exercise 7.3 Susskind"
   ]
  },
  {
   "cell_type": "code",
   "execution_count": 25,
   "metadata": {},
   "outputs": [],
   "source": [
    "import sympy.physics.quantum as qt\n",
    "\n",
    "# from sympy.physics.quantum import TensorProduct\n",
    "# from sympy.physics.quantum import *"
   ]
  },
  {
   "cell_type": "code",
   "execution_count": 26,
   "metadata": {},
   "outputs": [],
   "source": [
    "A11, A12, A21, A22 = symbols('A11 A12 A21 A22')\n",
    "B11, B12, B21, B22 = symbols('B11 B12 B21 B22')\n",
    "a11, a21 = symbols('a11 a21')\n",
    "b11, b21 = symbols('b11 b21')"
   ]
  },
  {
   "cell_type": "code",
   "execution_count": 27,
   "metadata": {},
   "outputs": [],
   "source": [
    "A = Matrix([[A11, A12], [A21, A22]])\n",
    "B = Matrix([[B11, B12], [B21, B22]])\n",
    "a = Matrix([[a11], [a21]])\n",
    "b = Matrix([[b11], [b21]])"
   ]
  },
  {
   "cell_type": "code",
   "execution_count": 28,
   "metadata": {},
   "outputs": [],
   "source": [
    "first = qt.TensorProduct(A, B)\n",
    "second = qt.TensorProduct(a, b)"
   ]
  },
  {
   "cell_type": "code",
   "execution_count": 29,
   "metadata": {},
   "outputs": [
    {
     "data": {
      "image/png": "[encoded data removed]",
      "text/latex": [
       "$$\\left[\\begin{matrix}A_{11} B_{11} & A_{11} B_{12} & A_{12} B_{11} & A_{12} B_{12}\\\\A_{11} B_{21} & A_{11} B_{22} & A_{12} B_{21} & A_{12} B_{22}\\\\A_{21} B_{11} & A_{21} B_{12} & A_{22} B_{11} & A_{22} B_{12}\\\\A_{21} B_{21} & A_{21} B_{22} & A_{22} B_{21} & A_{22} B_{22}\\end{matrix}\\right]$$"
      ],
      "text/plain": [
       "⎡A₁₁⋅B₁₁  A₁₁⋅B₁₂  A₁₂⋅B₁₁  A₁₂⋅B₁₂⎤\n",
       "⎢                                  ⎥\n",
       "⎢A₁₁⋅B₂₁  A₁₁⋅B₂₂  A₁₂⋅B₂₁  A₁₂⋅B₂₂⎥\n",
       "⎢                                  ⎥\n",
       "⎢A₂₁⋅B₁₁  A₂₁⋅B₁₂  A₂₂⋅B₁₁  A₂₂⋅B₁₂⎥\n",
       "⎢                                  ⎥\n",
       "⎣A₂₁⋅B₂₁  A₂₁⋅B₂₂  A₂₂⋅B₂₁  A₂₂⋅B₂₂⎦"
      ]
     },
     "execution_count": 29,
     "metadata": {},
     "output_type": "execute_result"
    }
   ],
   "source": [
    "first"
   ]
  },
  {
   "cell_type": "code",
   "execution_count": 30,
   "metadata": {},
   "outputs": [
    {
     "data": {
      "image/png": "[encoded data removed]",
      "text/latex": [
       "$$\\left[\\begin{matrix}a_{11} b_{11}\\\\a_{11} b_{21}\\\\a_{21} b_{11}\\\\a_{21} b_{21}\\end{matrix}\\right]$$"
      ],
      "text/plain": [
       "⎡a₁₁⋅b₁₁⎤\n",
       "⎢       ⎥\n",
       "⎢a₁₁⋅b₂₁⎥\n",
       "⎢       ⎥\n",
       "⎢a₂₁⋅b₁₁⎥\n",
       "⎢       ⎥\n",
       "⎣a₂₁⋅b₂₁⎦"
      ]
     },
     "execution_count": 30,
     "metadata": {},
     "output_type": "execute_result"
    }
   ],
   "source": [
    "second"
   ]
  },
  {
   "cell_type": "code",
   "execution_count": 31,
   "metadata": {},
   "outputs": [
    {
     "data": {
      "image/png": "[encoded data removed]",
      "text/latex": [
       "$$\\left[\\begin{matrix}A_{11} B_{11} a_{11} b_{11} + A_{11} B_{12} a_{11} b_{21} + A_{12} B_{11} a_{21} b_{11} + A_{12} B_{12} a_{21} b_{21}\\\\A_{11} B_{21} a_{11} b_{11} + A_{11} B_{22} a_{11} b_{21} + A_{12} B_{21} a_{21} b_{11} + A_{12} B_{22} a_{21} b_{21}\\\\A_{21} B_{11} a_{11} b_{11} + A_{21} B_{12} a_{11} b_{21} + A_{22} B_{11} a_{21} b_{11} + A_{22} B_{12} a_{21} b_{21}\\\\A_{21} B_{21} a_{11} b_{11} + A_{21} B_{22} a_{11} b_{21} + A_{22} B_{21} a_{21} b_{11} + A_{22} B_{22} a_{21} b_{21}\\end{matrix}\\right]$$"
      ],
      "text/plain": [
       "⎡A₁₁⋅B₁₁⋅a₁₁⋅b₁₁ + A₁₁⋅B₁₂⋅a₁₁⋅b₂₁ + A₁₂⋅B₁₁⋅a₂₁⋅b₁₁ + A₁₂⋅B₁₂⋅a₂₁⋅b₂₁⎤\n",
       "⎢                                                                     ⎥\n",
       "⎢A₁₁⋅B₂₁⋅a₁₁⋅b₁₁ + A₁₁⋅B₂₂⋅a₁₁⋅b₂₁ + A₁₂⋅B₂₁⋅a₂₁⋅b₁₁ + A₁₂⋅B₂₂⋅a₂₁⋅b₂₁⎥\n",
       "⎢                                                                     ⎥\n",
       "⎢A₂₁⋅B₁₁⋅a₁₁⋅b₁₁ + A₂₁⋅B₁₂⋅a₁₁⋅b₂₁ + A₂₂⋅B₁₁⋅a₂₁⋅b₁₁ + A₂₂⋅B₁₂⋅a₂₁⋅b₂₁⎥\n",
       "⎢                                                                     ⎥\n",
       "⎣A₂₁⋅B₂₁⋅a₁₁⋅b₁₁ + A₂₁⋅B₂₂⋅a₁₁⋅b₂₁ + A₂₂⋅B₂₁⋅a₂₁⋅b₁₁ + A₂₂⋅B₂₂⋅a₂₁⋅b₂₁⎦"
      ]
     },
     "execution_count": 31,
     "metadata": {},
     "output_type": "execute_result"
    }
   ],
   "source": [
    "LHS = first*second\n",
    "LHS"
   ]
  },
  {
   "cell_type": "code",
   "execution_count": 32,
   "metadata": {},
   "outputs": [
    {
     "data": {
      "image/png": "[encoded data removed]",
      "text/latex": [
       "$$\\left[\\begin{matrix}\\left(A_{11} a_{11} + A_{12} a_{21}\\right) \\left(B_{11} b_{11} + B_{12} b_{21}\\right)\\\\\\left(A_{11} a_{11} + A_{12} a_{21}\\right) \\left(B_{21} b_{11} + B_{22} b_{21}\\right)\\\\\\left(A_{21} a_{11} + A_{22} a_{21}\\right) \\left(B_{11} b_{11} + B_{12} b_{21}\\right)\\\\\\left(A_{21} a_{11} + A_{22} a_{21}\\right) \\left(B_{21} b_{11} + B_{22} b_{21}\\right)\\end{matrix}\\right]$$"
      ],
      "text/plain": [
       "⎡(A₁₁⋅a₁₁ + A₁₂⋅a₂₁)⋅(B₁₁⋅b₁₁ + B₁₂⋅b₂₁)⎤\n",
       "⎢                                       ⎥\n",
       "⎢(A₁₁⋅a₁₁ + A₁₂⋅a₂₁)⋅(B₂₁⋅b₁₁ + B₂₂⋅b₂₁)⎥\n",
       "⎢                                       ⎥\n",
       "⎢(A₂₁⋅a₁₁ + A₂₂⋅a₂₁)⋅(B₁₁⋅b₁₁ + B₁₂⋅b₂₁)⎥\n",
       "⎢                                       ⎥\n",
       "⎣(A₂₁⋅a₁₁ + A₂₂⋅a₂₁)⋅(B₂₁⋅b₁₁ + B₂₂⋅b₂₁)⎦"
      ]
     },
     "execution_count": 32,
     "metadata": {},
     "output_type": "execute_result"
    }
   ],
   "source": [
    "RHS = qt.TensorProduct(A*a, B*b)\n",
    "RHS"
   ]
  },
  {
   "cell_type": "code",
   "execution_count": 33,
   "metadata": {},
   "outputs": [
    {
     "data": {
      "image/png": "[encoded data removed]",
      "text/latex": [
       "$$\\left[\\begin{matrix}0\\\\0\\\\0\\\\0\\end{matrix}\\right]$$"
      ],
      "text/plain": [
       "⎡0⎤\n",
       "⎢ ⎥\n",
       "⎢0⎥\n",
       "⎢ ⎥\n",
       "⎢0⎥\n",
       "⎢ ⎥\n",
       "⎣0⎦"
      ]
     },
     "execution_count": 33,
     "metadata": {},
     "output_type": "execute_result"
    }
   ],
   "source": [
    "simplify(RHS-LHS)"
   ]
  },
  {
   "cell_type": "markdown",
   "metadata": {},
   "source": [
    "#### Added on Feb 18, 2019"
   ]
  },
  {
   "cell_type": "code",
   "execution_count": 34,
   "metadata": {},
   "outputs": [
    {
     "ename": "AttributeError",
     "evalue": "MutableDenseMatrix has no attribute is_commutative.",
     "output_type": "error",
     "traceback": [
      "\u001b[0;31m---------------------------------------------------------------------------\u001b[0m",
      "\u001b[0;31mAttributeError\u001b[0m                            Traceback (most recent call last)",
      "\u001b[0;32m<ipython-input-34-6afd3be2548b>\u001b[0m in \u001b[0;36m<module>\u001b[0;34m\u001b[0m\n\u001b[0;32m----> 1\u001b[0;31m \u001b[0mqt\u001b[0m\u001b[0;34m.\u001b[0m\u001b[0mAntiCommutator\u001b[0m\u001b[0;34m(\u001b[0m\u001b[0mA\u001b[0m\u001b[0;34m,\u001b[0m \u001b[0mB\u001b[0m\u001b[0;34m)\u001b[0m\u001b[0;34m\u001b[0m\u001b[0;34m\u001b[0m\u001b[0m\n\u001b[0m",
      "\u001b[0;32m~/anaconda3/lib/python3.6/site-packages/sympy/physics/quantum/anticommutator.py\u001b[0m in \u001b[0;36m__new__\u001b[0;34m(cls, A, B)\u001b[0m\n\u001b[1;32m     78\u001b[0m \u001b[0;34m\u001b[0m\u001b[0m\n\u001b[1;32m     79\u001b[0m     \u001b[0;32mdef\u001b[0m \u001b[0m__new__\u001b[0m\u001b[0;34m(\u001b[0m\u001b[0mcls\u001b[0m\u001b[0;34m,\u001b[0m \u001b[0mA\u001b[0m\u001b[0;34m,\u001b[0m \u001b[0mB\u001b[0m\u001b[0;34m)\u001b[0m\u001b[0;34m:\u001b[0m\u001b[0;34m\u001b[0m\u001b[0;34m\u001b[0m\u001b[0m\n\u001b[0;32m---> 80\u001b[0;31m         \u001b[0mr\u001b[0m \u001b[0;34m=\u001b[0m \u001b[0mcls\u001b[0m\u001b[0;34m.\u001b[0m\u001b[0meval\u001b[0m\u001b[0;34m(\u001b[0m\u001b[0mA\u001b[0m\u001b[0;34m,\u001b[0m \u001b[0mB\u001b[0m\u001b[0;34m)\u001b[0m\u001b[0;34m\u001b[0m\u001b[0;34m\u001b[0m\u001b[0m\n\u001b[0m\u001b[1;32m     81\u001b[0m         \u001b[0;32mif\u001b[0m \u001b[0mr\u001b[0m \u001b[0;32mis\u001b[0m \u001b[0;32mnot\u001b[0m \u001b[0;32mNone\u001b[0m\u001b[0;34m:\u001b[0m\u001b[0;34m\u001b[0m\u001b[0;34m\u001b[0m\u001b[0m\n\u001b[1;32m     82\u001b[0m             \u001b[0;32mreturn\u001b[0m \u001b[0mr\u001b[0m\u001b[0;34m\u001b[0m\u001b[0;34m\u001b[0m\u001b[0m\n",
      "\u001b[0;32m~/anaconda3/lib/python3.6/site-packages/sympy/physics/quantum/anticommutator.py\u001b[0m in \u001b[0;36meval\u001b[0;34m(cls, a, b)\u001b[0m\n\u001b[1;32m     90\u001b[0m         \u001b[0;32mif\u001b[0m \u001b[0ma\u001b[0m \u001b[0;34m==\u001b[0m \u001b[0mb\u001b[0m\u001b[0;34m:\u001b[0m\u001b[0;34m\u001b[0m\u001b[0;34m\u001b[0m\u001b[0m\n\u001b[1;32m     91\u001b[0m             \u001b[0;32mreturn\u001b[0m \u001b[0mInteger\u001b[0m\u001b[0;34m(\u001b[0m\u001b[0;36m2\u001b[0m\u001b[0;34m)\u001b[0m\u001b[0;34m*\u001b[0m\u001b[0ma\u001b[0m\u001b[0;34m**\u001b[0m\u001b[0;36m2\u001b[0m\u001b[0;34m\u001b[0m\u001b[0;34m\u001b[0m\u001b[0m\n\u001b[0;32m---> 92\u001b[0;31m         \u001b[0;32mif\u001b[0m \u001b[0ma\u001b[0m\u001b[0;34m.\u001b[0m\u001b[0mis_commutative\u001b[0m \u001b[0;32mor\u001b[0m \u001b[0mb\u001b[0m\u001b[0;34m.\u001b[0m\u001b[0mis_commutative\u001b[0m\u001b[0;34m:\u001b[0m\u001b[0;34m\u001b[0m\u001b[0;34m\u001b[0m\u001b[0m\n\u001b[0m\u001b[1;32m     93\u001b[0m             \u001b[0;32mreturn\u001b[0m \u001b[0mInteger\u001b[0m\u001b[0;34m(\u001b[0m\u001b[0;36m2\u001b[0m\u001b[0;34m)\u001b[0m\u001b[0;34m*\u001b[0m\u001b[0ma\u001b[0m\u001b[0;34m*\u001b[0m\u001b[0mb\u001b[0m\u001b[0;34m\u001b[0m\u001b[0;34m\u001b[0m\u001b[0m\n\u001b[1;32m     94\u001b[0m \u001b[0;34m\u001b[0m\u001b[0m\n",
      "\u001b[0;32m~/anaconda3/lib/python3.6/site-packages/sympy/matrices/matrices.py\u001b[0m in \u001b[0;36m__getattr__\u001b[0;34m(self, attr)\u001b[0m\n\u001b[1;32m   1954\u001b[0m         \u001b[0;32melse\u001b[0m\u001b[0;34m:\u001b[0m\u001b[0;34m\u001b[0m\u001b[0;34m\u001b[0m\u001b[0m\n\u001b[1;32m   1955\u001b[0m             raise AttributeError(\n\u001b[0;32m-> 1956\u001b[0;31m                 \"%s has no attribute %s.\" % (self.__class__.__name__, attr))\n\u001b[0m\u001b[1;32m   1957\u001b[0m \u001b[0;34m\u001b[0m\u001b[0m\n\u001b[1;32m   1958\u001b[0m     \u001b[0;32mdef\u001b[0m \u001b[0m__len__\u001b[0m\u001b[0;34m(\u001b[0m\u001b[0mself\u001b[0m\u001b[0;34m)\u001b[0m\u001b[0;34m:\u001b[0m\u001b[0;34m\u001b[0m\u001b[0;34m\u001b[0m\u001b[0m\n",
      "\u001b[0;31mAttributeError\u001b[0m: MutableDenseMatrix has no attribute is_commutative."
     ]
    }
   ],
   "source": [
    "qt.AntiCommutator(A, B)"
   ]
  },
  {
   "cell_type": "code",
   "execution_count": null,
   "metadata": {},
   "outputs": [],
   "source": []
  }
 ],
 "metadata": {
  "kernelspec": {
   "display_name": "Python 3",
   "language": "python",
   "name": "python3"
  },
  "language_info": {
   "codemirror_mode": {
    "name": "ipython",
    "version": 3
   },
   "file_extension": ".py",
   "mimetype": "text/x-python",
   "name": "python",
   "nbconvert_exporter": "python",
   "pygments_lexer": "ipython3",
   "version": "3.6.7"
  }
 },
 "nbformat": 4,
 "nbformat_minor": 2
}
