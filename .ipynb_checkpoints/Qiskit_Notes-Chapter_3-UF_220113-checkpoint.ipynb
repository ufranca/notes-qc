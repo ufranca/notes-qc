{
 "cells": [
  {
   "cell_type": "markdown",
   "id": "efcfb886",
   "metadata": {},
   "source": [
    "<font color='red' size=\"+3\"><b>Notes Qiskit UF</b></font>"
   ]
  },
  {
   "cell_type": "markdown",
   "id": "03e3fcbf",
   "metadata": {},
   "source": [
    "# Chapter 1\n",
    "see Qiskit_Notes-Chapter_1-UF_211129</a>"
   ]
  },
  {
   "cell_type": "markdown",
   "id": "977db97f",
   "metadata": {},
   "source": [
    "# Chapter 2\n",
    "see Qiskit_Notes-Chapter_2-UF_211218</a>"
   ]
  },
  {
   "cell_type": "markdown",
   "id": "d9161543",
   "metadata": {},
   "source": [
    "# Quantum Protocols and Quantum Algorithms\n",
    "\n",
    "\n",
    "## Defining Quantum Circuits\n",
    "\n",
    "### Introduction\n",
    "\n",
    "Before implementing quantum algorithms on real quantum computers, it is important to highlight the definition of a quantum circuit concretely, as we will be building quantum circuits to implement these algorithms.\n",
    "\n",
    "\n",
    "### What is a quantum Circuit\n",
    "\n",
    "__Quantum Circuit__: a computational routine consisting of coherent quantum operations on quantum data, such as qubits, and concurrent real-time classical computation. It is an ordered sequence of quantum gates, measurements and resets, all of which may be conditioned on and use data from the real-time classical computation.\n",
    "\n",
    "### Example: Quantum Teleportation\n",
    "\n",
    "\n",
    "<img src='figures/teleportation_labelled.svg'>\n",
    "\n",
    "__Teleportation algorithm__: 3 qubits, 2 classical bits.\n",
    "\n",
    "_Initialization and reset_ \n",
    "\n",
    "First, we need to start our quantum computation with a well-defined quantum state. This is achieved using the initialization and reset operations. The resets can be performed by a combination of single-qubit gates and concurrent real-time classical computation that monitors whether we have successfully created the desired state through measurements. The initialization of $q_0$  into a desired state $|\\psi\\rangle$ can then follow by applying single-qubit gates.\n",
    "\n",
    "_Quantum gates_\n",
    "\n",
    "Second, we apply a sequence of quantum gates that manipulate the three qubits as required by the teleportation algorithm. In this case, we only need to apply single-qubit Hadamard $H$ and two-qubit Controlled-X  gates.\n",
    "\n",
    "Measurements \n",
    "Third, we measure two of the three qubits. A classical computer interprets the measurements of each qubit as classical outcomes (0 and 1) and stores them in the two classical bits.\n",
    "\n",
    "Classically conditioned quantum gates \n",
    "Fourth, we apply single-qubit  \n",
    "Z\n",
    "  and  \n",
    "X\n",
    "  quantum gates on the third qubit. These gates are conditioned on the results of the measurements that are stored in the two classical bits. In this case, we are using the results of the classical computation concurrently in real-time within the same quantum circuit.\n",
    "\n",
    "\n",
    "\n",
    "### Example: Variational Quantum Eigensolvers\n",
    "\n",
    "### Why the Classical Parts"
   ]
  },
  {
   "cell_type": "code",
   "execution_count": null,
   "id": "7363fbd3",
   "metadata": {},
   "outputs": [],
   "source": []
  }
 ],
 "metadata": {
  "kernelspec": {
   "display_name": "Python 3",
   "language": "python",
   "name": "python3"
  },
  "language_info": {
   "codemirror_mode": {
    "name": "ipython",
    "version": 3
   },
   "file_extension": ".py",
   "mimetype": "text/x-python",
   "name": "python",
   "nbconvert_exporter": "python",
   "pygments_lexer": "ipython3",
   "version": "3.8.8"
  },
  "toc": {
   "base_numbering": 1,
   "nav_menu": {},
   "number_sections": true,
   "sideBar": true,
   "skip_h1_title": false,
   "title_cell": "Table of Contents",
   "title_sidebar": "Contents",
   "toc_cell": false,
   "toc_position": {},
   "toc_section_display": true,
   "toc_window_display": false
  }
 },
 "nbformat": 4,
 "nbformat_minor": 5
}
