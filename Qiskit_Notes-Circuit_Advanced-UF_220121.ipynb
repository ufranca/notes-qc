{
 "cells": [
  {
   "cell_type": "markdown",
   "id": "63967b2e",
   "metadata": {},
   "source": [
    "<h1><font color ='red'>Qiskit Notes - UF </font></h1>\n",
    "\n",
    "Based on Tutorials\n",
    "\n",
    "https://qiskit.org/documentation/tutorials.html\n",
    "\n"
   ]
  },
  {
   "cell_type": "code",
   "execution_count": null,
   "id": "e9824d17",
   "metadata": {},
   "outputs": [],
   "source": [
    "import numpy as np\n",
    "\n",
    "from qiskit import QuantumCircuit, ClassicalRegister, QuantumRegister\n",
    "from qiskit import BasicAer\n",
    "from qiskit.compiler import transpile\n",
    "from qiskit.quantum_info.operators import Operator, Pauli\n",
    "from qiskit_quantum_info import process_fidelity"
   ]
  },
  {
   "cell_type": "markdown",
   "id": "1ab62f21",
   "metadata": {},
   "source": [
    "# Advanced Circuits\n",
    "\n",
    "https://qiskit.org/documentation/tutorials/circuits_advanced/01_advanced_circuits.html"
   ]
  },
  {
   "cell_type": "markdown",
   "id": "3835d804",
   "metadata": {},
   "source": [
    "## Opaque Gates"
   ]
  },
  {
   "cell_type": "code",
   "execution_count": null,
   "id": "d892a77d",
   "metadata": {},
   "outputs": [],
   "source": []
  },
  {
   "cell_type": "code",
   "execution_count": null,
   "id": "e18400ee",
   "metadata": {},
   "outputs": [],
   "source": []
  },
  {
   "cell_type": "markdown",
   "id": "4204acb9",
   "metadata": {},
   "source": [
    "## Composite Gates"
   ]
  },
  {
   "cell_type": "code",
   "execution_count": null,
   "id": "b2231929",
   "metadata": {},
   "outputs": [],
   "source": []
  },
  {
   "cell_type": "code",
   "execution_count": null,
   "id": "cdc5facc",
   "metadata": {},
   "outputs": [],
   "source": []
  },
  {
   "cell_type": "markdown",
   "id": "ce84ef04",
   "metadata": {},
   "source": [
    "## Parameterized Circuits"
   ]
  },
  {
   "cell_type": "code",
   "execution_count": null,
   "id": "896a58fe",
   "metadata": {},
   "outputs": [],
   "source": []
  },
  {
   "cell_type": "code",
   "execution_count": null,
   "id": "ddd1d8cf",
   "metadata": {},
   "outputs": [],
   "source": []
  },
  {
   "cell_type": "markdown",
   "id": "533d77d1",
   "metadata": {},
   "source": [
    "### Building parameters to values"
   ]
  },
  {
   "cell_type": "code",
   "execution_count": null,
   "id": "eda8e52d",
   "metadata": {},
   "outputs": [],
   "source": []
  },
  {
   "cell_type": "code",
   "execution_count": null,
   "id": "ba276862",
   "metadata": {},
   "outputs": [],
   "source": []
  },
  {
   "cell_type": "code",
   "execution_count": null,
   "id": "b6a5d729",
   "metadata": {},
   "outputs": [],
   "source": []
  },
  {
   "cell_type": "markdown",
   "id": "f7c1a178",
   "metadata": {},
   "source": [
    "### Reducing compilation cost"
   ]
  },
  {
   "cell_type": "code",
   "execution_count": null,
   "id": "7e90a67e",
   "metadata": {},
   "outputs": [],
   "source": []
  },
  {
   "cell_type": "code",
   "execution_count": null,
   "id": "54b69b7a",
   "metadata": {},
   "outputs": [],
   "source": []
  },
  {
   "cell_type": "markdown",
   "id": "0b5be6d1",
   "metadata": {},
   "source": [
    "### Composition"
   ]
  },
  {
   "cell_type": "code",
   "execution_count": null,
   "id": "85282301",
   "metadata": {},
   "outputs": [],
   "source": []
  },
  {
   "cell_type": "code",
   "execution_count": null,
   "id": "5f1ff605",
   "metadata": {},
   "outputs": [],
   "source": []
  },
  {
   "cell_type": "markdown",
   "id": "376ac9ab",
   "metadata": {},
   "source": [
    "# Operators"
   ]
  },
  {
   "cell_type": "markdown",
   "id": "98da94d5",
   "metadata": {},
   "source": [
    "## Operator Class"
   ]
  },
  {
   "cell_type": "code",
   "execution_count": null,
   "id": "148a73dc",
   "metadata": {},
   "outputs": [],
   "source": []
  },
  {
   "cell_type": "code",
   "execution_count": null,
   "id": "e5a5c939",
   "metadata": {},
   "outputs": [],
   "source": []
  },
  {
   "cell_type": "code",
   "execution_count": null,
   "id": "7a8ab00a",
   "metadata": {},
   "outputs": [],
   "source": []
  },
  {
   "cell_type": "markdown",
   "id": "4d5848dc",
   "metadata": {},
   "source": [
    "## Converting classes to Operators"
   ]
  },
  {
   "cell_type": "code",
   "execution_count": null,
   "id": "2876ae41",
   "metadata": {},
   "outputs": [],
   "source": []
  },
  {
   "cell_type": "code",
   "execution_count": null,
   "id": "171659d1",
   "metadata": {},
   "outputs": [],
   "source": []
  },
  {
   "cell_type": "code",
   "execution_count": null,
   "id": "4e91d567",
   "metadata": {},
   "outputs": [],
   "source": []
  },
  {
   "cell_type": "markdown",
   "id": "0fab4bf0",
   "metadata": {},
   "source": [
    "## Using Operators in circuits"
   ]
  },
  {
   "cell_type": "code",
   "execution_count": null,
   "id": "cdbeabd0",
   "metadata": {},
   "outputs": [],
   "source": []
  },
  {
   "cell_type": "code",
   "execution_count": null,
   "id": "366b2df6",
   "metadata": {},
   "outputs": [],
   "source": []
  },
  {
   "cell_type": "code",
   "execution_count": null,
   "id": "874f4b62",
   "metadata": {},
   "outputs": [],
   "source": []
  },
  {
   "cell_type": "markdown",
   "id": "567464a5",
   "metadata": {},
   "source": [
    "## Combining Operators"
   ]
  },
  {
   "cell_type": "code",
   "execution_count": null,
   "id": "f6770588",
   "metadata": {},
   "outputs": [],
   "source": []
  },
  {
   "cell_type": "code",
   "execution_count": null,
   "id": "48b86a15",
   "metadata": {},
   "outputs": [],
   "source": []
  },
  {
   "cell_type": "code",
   "execution_count": null,
   "id": "3a687a52",
   "metadata": {},
   "outputs": [],
   "source": []
  },
  {
   "cell_type": "markdown",
   "id": "fab55d8c",
   "metadata": {},
   "source": [
    "## Comparison of Operators"
   ]
  },
  {
   "cell_type": "code",
   "execution_count": null,
   "id": "6b2e6ece",
   "metadata": {},
   "outputs": [],
   "source": []
  },
  {
   "cell_type": "code",
   "execution_count": null,
   "id": "de3f495c",
   "metadata": {},
   "outputs": [],
   "source": []
  },
  {
   "cell_type": "code",
   "execution_count": null,
   "id": "c8aa7c2f",
   "metadata": {},
   "outputs": [],
   "source": []
  },
  {
   "cell_type": "markdown",
   "id": "046a86e4",
   "metadata": {},
   "source": [
    "# Visualizing a Quantum Circuit"
   ]
  },
  {
   "cell_type": "code",
   "execution_count": null,
   "id": "41f97a91",
   "metadata": {},
   "outputs": [],
   "source": []
  },
  {
   "cell_type": "markdown",
   "id": "adfec260",
   "metadata": {},
   "source": [
    "## Drawing a Quantum Circuit"
   ]
  },
  {
   "cell_type": "code",
   "execution_count": null,
   "id": "f56660e8",
   "metadata": {},
   "outputs": [],
   "source": []
  },
  {
   "cell_type": "code",
   "execution_count": null,
   "id": "e8acd357",
   "metadata": {},
   "outputs": [],
   "source": []
  },
  {
   "cell_type": "markdown",
   "id": "8f5e3f8e",
   "metadata": {},
   "source": [
    "## Alternative Renderers for Circuits"
   ]
  },
  {
   "cell_type": "code",
   "execution_count": null,
   "id": "35ba9487",
   "metadata": {},
   "outputs": [],
   "source": []
  },
  {
   "cell_type": "code",
   "execution_count": null,
   "id": "4e1e4c69",
   "metadata": {},
   "outputs": [],
   "source": []
  },
  {
   "cell_type": "code",
   "execution_count": null,
   "id": "c8e406c9",
   "metadata": {},
   "outputs": [],
   "source": []
  },
  {
   "cell_type": "markdown",
   "id": "64604eae",
   "metadata": {},
   "source": [
    "## Controlling output from circuit.draw()"
   ]
  },
  {
   "cell_type": "markdown",
   "id": "9943f3c8",
   "metadata": {},
   "source": [
    "### Customizing the outputm"
   ]
  },
  {
   "cell_type": "code",
   "execution_count": null,
   "id": "2f1ba408",
   "metadata": {},
   "outputs": [],
   "source": []
  },
  {
   "cell_type": "code",
   "execution_count": null,
   "id": "4494c071",
   "metadata": {},
   "outputs": [],
   "source": []
  },
  {
   "cell_type": "markdown",
   "id": "ca76bf8e",
   "metadata": {},
   "source": [
    "## circuit_drawer() as function"
   ]
  },
  {
   "cell_type": "code",
   "execution_count": null,
   "id": "568ca713",
   "metadata": {},
   "outputs": [],
   "source": []
  },
  {
   "cell_type": "code",
   "execution_count": null,
   "id": "c27749aa",
   "metadata": {},
   "outputs": [],
   "source": []
  }
 ],
 "metadata": {
  "kernelspec": {
   "display_name": "Python 3",
   "language": "python",
   "name": "python3"
  },
  "language_info": {
   "codemirror_mode": {
    "name": "ipython",
    "version": 3
   },
   "file_extension": ".py",
   "mimetype": "text/x-python",
   "name": "python",
   "nbconvert_exporter": "python",
   "pygments_lexer": "ipython3",
   "version": "3.8.8"
  },
  "toc": {
   "base_numbering": 1,
   "nav_menu": {},
   "number_sections": true,
   "sideBar": true,
   "skip_h1_title": false,
   "title_cell": "Table of Contents",
   "title_sidebar": "Contents",
   "toc_cell": false,
   "toc_position": {
    "height": "calc(100% - 180px)",
    "left": "10px",
    "top": "150px",
    "width": "335.99px"
   },
   "toc_section_display": true,
   "toc_window_display": true
  }
 },
 "nbformat": 4,
 "nbformat_minor": 5
}
